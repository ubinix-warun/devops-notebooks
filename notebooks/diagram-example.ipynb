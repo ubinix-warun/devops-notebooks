{
 "cells": [
  {
   "cell_type": "code",
   "execution_count": null,
   "metadata": {
    "scrolled": true
   },
   "outputs": [],
   "source": [
    "!apt install graphviz -y"
   ]
  },
  {
   "cell_type": "code",
   "execution_count": null,
   "metadata": {},
   "outputs": [],
   "source": [
    "pip install diagrams"
   ]
  },
  {
   "cell_type": "code",
   "execution_count": null,
   "metadata": {},
   "outputs": [],
   "source": [
    "from diagrams import Diagram\n",
    "from diagrams.aws.compute import EC2\n",
    "from diagrams.aws.database import RDS\n",
    "from diagrams.aws.network import ELB\n",
    "\n",
    "with Diagram(\"Web Service\", show=False):\n",
    "    ELB(\"lb\") >> EC2(\"web\") >> RDS(\"userdb\")"
   ]
  },
  {
   "cell_type": "code",
   "execution_count": null,
   "metadata": {},
   "outputs": [],
   "source": [
    "from IPython.display import display, Image, SVG, Math, YouTubeVideo\n",
    "i = Image(filename='web_service.png')\n",
    "display(i)"
   ]
  },
  {
   "cell_type": "code",
   "execution_count": null,
   "metadata": {},
   "outputs": [],
   "source": [
    "from diagrams import Diagram\n",
    "from diagrams.aws.compute import EC2\n",
    "from diagrams.aws.database import RDS\n",
    "from diagrams.aws.network import ELB\n",
    "\n",
    "with Diagram(\"Grouped Workers\", show=False, direction=\"TB\"):\n",
    "    ELB(\"lb\") >> [EC2(\"worker1\"),\n",
    "                  EC2(\"worker2\"),\n",
    "                  EC2(\"worker3\"),\n",
    "                  EC2(\"worker4\"),\n",
    "                  EC2(\"worker5\")] >> RDS(\"events\")"
   ]
  },
  {
   "cell_type": "code",
   "execution_count": null,
   "metadata": {},
   "outputs": [],
   "source": [
    "from IPython.display import display, Image, SVG, Math, YouTubeVideo\n",
    "i = Image(filename='grouped_workers.png')\n",
    "display(i)"
   ]
  },
  {
   "cell_type": "code",
   "execution_count": null,
   "metadata": {},
   "outputs": [],
   "source": [
    "from diagrams import Cluster, Diagram\n",
    "from diagrams.aws.compute import ECS\n",
    "from diagrams.aws.database import ElastiCache, RDS\n",
    "from diagrams.aws.network import ELB\n",
    "from diagrams.aws.network import Route53\n",
    "\n",
    "with Diagram(\"Clustered Web Services\", show=False):\n",
    "    dns = Route53(\"dns\")\n",
    "    lb = ELB(\"lb\")\n",
    "\n",
    "    with Cluster(\"Services\"):\n",
    "        svc_group = [ECS(\"web1\"),\n",
    "                     ECS(\"web2\"),\n",
    "                     ECS(\"web3\")]\n",
    "\n",
    "    with Cluster(\"DB Cluster\"):\n",
    "        db_master = RDS(\"userdb\")\n",
    "        db_master - [RDS(\"userdb ro\")]\n",
    "\n",
    "    memcached = ElastiCache(\"memcached\")\n",
    "\n",
    "    dns >> lb >> svc_group\n",
    "    svc_group >> db_master\n",
    "    svc_group >> memcached"
   ]
  },
  {
   "cell_type": "code",
   "execution_count": null,
   "metadata": {},
   "outputs": [],
   "source": [
    "from IPython.display import display, Image, SVG, Math, YouTubeVideo\n",
    "i = Image(filename='clustered_web_services.png')\n",
    "display(i)"
   ]
  },
  {
   "cell_type": "code",
   "execution_count": null,
   "metadata": {},
   "outputs": [],
   "source": [
    "from diagrams import Cluster, Diagram\n",
    "from diagrams.aws.compute import ECS, EKS, Lambda\n",
    "from diagrams.aws.database import Redshift\n",
    "from diagrams.aws.integration import SQS\n",
    "from diagrams.aws.storage import S3\n",
    "\n",
    "with Diagram(\"Event Processing\", show=False):\n",
    "    source = EKS(\"k8s source\")\n",
    "\n",
    "    with Cluster(\"Event Flows\"):\n",
    "        with Cluster(\"Event Workers\"):\n",
    "            workers = [ECS(\"worker1\"),\n",
    "                       ECS(\"worker2\"),\n",
    "                       ECS(\"worker3\")]\n",
    "\n",
    "        queue = SQS(\"event queue\")\n",
    "\n",
    "        with Cluster(\"Processing\"):\n",
    "            handlers = [Lambda(\"proc1\"),\n",
    "                        Lambda(\"proc2\"),\n",
    "                        Lambda(\"proc3\")]\n",
    "\n",
    "    store = S3(\"events store\")\n",
    "    dw = Redshift(\"analytics\")\n",
    "\n",
    "    source >> workers >> queue >> handlers\n",
    "    handlers >> store\n",
    "    handlers >> dw"
   ]
  },
  {
   "cell_type": "code",
   "execution_count": null,
   "metadata": {},
   "outputs": [],
   "source": [
    "from IPython.display import display, Image, SVG, Math, YouTubeVideo\n",
    "i = Image(filename='event_processing.png')\n",
    "display(i)"
   ]
  },
  {
   "cell_type": "code",
   "execution_count": null,
   "metadata": {},
   "outputs": [],
   "source": [
    "from diagrams import Cluster, Diagram\n",
    "from diagrams.gcp.analytics import BigQuery, Dataflow, PubSub\n",
    "from diagrams.gcp.compute import AppEngine, Functions\n",
    "from diagrams.gcp.database import BigTable\n",
    "from diagrams.gcp.iot import IotCore\n",
    "from diagrams.gcp.storage import GCS\n",
    "\n",
    "with Diagram(\"Message Collecting\", show=False):\n",
    "    pubsub = PubSub(\"pubsub\")\n",
    "\n",
    "    with Cluster(\"Source of Data\"):\n",
    "        [IotCore(\"core1\"),\n",
    "         IotCore(\"core2\"),\n",
    "         IotCore(\"core3\")] >> pubsub\n",
    "\n",
    "    with Cluster(\"Targets\"):\n",
    "        with Cluster(\"Data Flow\"):\n",
    "            flow = Dataflow(\"data flow\")\n",
    "\n",
    "        with Cluster(\"Data Lake\"):\n",
    "            flow >> [BigQuery(\"bq\"),\n",
    "                     GCS(\"storage\")]\n",
    "\n",
    "        with Cluster(\"Event Driven\"):\n",
    "            with Cluster(\"Processing\"):\n",
    "                flow >> AppEngine(\"engine\") >> BigTable(\"bigtable\")\n",
    "\n",
    "            with Cluster(\"Serverless\"):\n",
    "                flow >> Functions(\"func\") >> AppEngine(\"appengine\")\n",
    "\n",
    "    pubsub >> flow"
   ]
  },
  {
   "cell_type": "code",
   "execution_count": null,
   "metadata": {},
   "outputs": [],
   "source": [
    "from IPython.display import display, Image, SVG, Math, YouTubeVideo\n",
    "i = Image(filename='message_collecting.png')\n",
    "display(i)"
   ]
  },
  {
   "cell_type": "code",
   "execution_count": null,
   "metadata": {},
   "outputs": [],
   "source": [
    "from diagrams import Diagram\n",
    "from diagrams.k8s.clusterconfig import HPA\n",
    "from diagrams.k8s.compute import Deployment, Pod, ReplicaSet\n",
    "from diagrams.k8s.network import Ingress, Service\n",
    "\n",
    "with Diagram(\"Exposed Pod with 3 Replicas\", show=False):\n",
    "    net = Ingress(\"domain.com\") >> Service(\"svc\")\n",
    "    net >> [Pod(\"pod1\"),\n",
    "            Pod(\"pod2\"),\n",
    "            Pod(\"pod3\")] << ReplicaSet(\"rs\") << Deployment(\"dp\") << HPA(\"hpa\")"
   ]
  },
  {
   "cell_type": "code",
   "execution_count": null,
   "metadata": {},
   "outputs": [],
   "source": [
    "from IPython.display import display, Image, SVG, Math, YouTubeVideo\n",
    "i = Image(filename='exposed_pod_with_3_replicas.png')\n",
    "display(i)"
   ]
  },
  {
   "cell_type": "code",
   "execution_count": null,
   "metadata": {},
   "outputs": [],
   "source": [
    "from diagrams import Cluster, Diagram\n",
    "from diagrams.k8s.compute import Pod, StatefulSet\n",
    "from diagrams.k8s.network import Service\n",
    "from diagrams.k8s.storage import PV, PVC, StorageClass\n",
    "\n",
    "with Diagram(\"Stateful Architecture\", show=False):\n",
    "    with Cluster(\"Apps\"):\n",
    "        svc = Service(\"svc\")\n",
    "        sts = StatefulSet(\"sts\")\n",
    "\n",
    "        apps = []\n",
    "        for _ in range(3):\n",
    "            pod = Pod(\"pod\")\n",
    "            pvc = PVC(\"pvc\")\n",
    "            pod - sts - pvc\n",
    "            apps.append(svc >> pod >> pvc)\n",
    "\n",
    "    apps << PV(\"pv\") << StorageClass(\"sc\")"
   ]
  },
  {
   "cell_type": "code",
   "execution_count": null,
   "metadata": {},
   "outputs": [],
   "source": [
    "from IPython.display import display, Image, SVG, Math, YouTubeVideo\n",
    "i = Image(filename='stateful_architecture.png')\n",
    "display(i)"
   ]
  },
  {
   "cell_type": "code",
   "execution_count": null,
   "metadata": {},
   "outputs": [],
   "source": []
  }
 ],
 "metadata": {
  "kernelspec": {
   "display_name": "Python 3",
   "language": "python",
   "name": "python3"
  },
  "language_info": {
   "codemirror_mode": {
    "name": "ipython",
    "version": 3
   },
   "file_extension": ".py",
   "mimetype": "text/x-python",
   "name": "python",
   "nbconvert_exporter": "python",
   "pygments_lexer": "ipython3",
   "version": "3.7.4"
  }
 },
 "nbformat": 4,
 "nbformat_minor": 4
}
